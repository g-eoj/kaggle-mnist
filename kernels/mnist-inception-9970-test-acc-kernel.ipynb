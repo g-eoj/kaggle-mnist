{
 "cells": [
  {
   "cell_type": "markdown",
   "metadata": {},
   "source": [
    "# Digit Recognition with Inception Model\n",
    "\n",
    "- [Data](#Data)   \n",
    "\n",
    "- [Inception](#Inception)\n",
    "    - [Inception Modules](#Inception-Modules)\n",
    "    - [Inception Model](#Inception-Model)  \n",
    "\n",
    "- [Training](#Training)\n",
    "    - [Dropout](#Spatial-Dropout)\n",
    "    - [Label Smoothing](#Label-Smoothing)\n",
    "    - [Data Augmentation](#Data-Augmentation)\n",
    "    - [Cosine Annealing](#Cosine-Annealing)\n",
    "    - [Adamax](#Adamax)   \n",
    "    - [Train](#Train)\n",
    "\n",
    "- [Model Evaluation](#Model-Evaluation) \n",
    "\n",
    "- [Predict on Test Set](#Predict-on-Test-Set)"
   ]
  },
  {
   "cell_type": "code",
   "execution_count": 1,
   "metadata": {},
   "outputs": [
    {
     "name": "stderr",
     "output_type": "stream",
     "text": [
      "Using TensorFlow backend.\n"
     ]
    },
    {
     "name": "stdout",
     "output_type": "stream",
     "text": [
      "keras version: 2.2.4\n",
      "tensorflow version: 1.12.0\n"
     ]
    }
   ],
   "source": [
    "%matplotlib inline\n",
    "\n",
    "import matplotlib.pyplot as plt\n",
    "import numpy as np\n",
    "import time\n",
    "\n",
    "import keras\n",
    "from keras import backend as K\n",
    "from keras import layers\n",
    "from keras import optimizers\n",
    "from keras.models import Model\n",
    "from keras.preprocessing.image import ImageDataGenerator\n",
    "from keras.utils import to_categorical\n",
    "\n",
    "\n",
    "keras_version = keras.__version__\n",
    "tf_version = K.tensorflow_backend.tf.VERSION\n",
    "\n",
    "print(\"keras version:\", keras_version)\n",
    "print(K.backend(), \"version:\", tf_version)"
   ]
  },
  {
   "cell_type": "markdown",
   "metadata": {},
   "source": [
    "## Data\n",
    "- Scale \\[-1, 1\\]\n",
    "- Balanced Validation Split "
   ]
  },
  {
   "cell_type": "code",
   "execution_count": 2,
   "metadata": {},
   "outputs": [],
   "source": [
    "# load data\n",
    "rawdata = np.loadtxt('../input/train.csv', dtype=int, delimiter=',', skiprows=1)"
   ]
  },
  {
   "cell_type": "code",
   "execution_count": 3,
   "metadata": {},
   "outputs": [
    {
     "name": "stdout",
     "output_type": "stream",
     "text": [
      "Raw data shape: (42000, 785)\n",
      "Labels shape: (42000,)\n",
      "Pixels shape: (42000, 784)\n",
      "Pixels reshaped shape: (42000, 28, 28)\n"
     ]
    }
   ],
   "source": [
    "# inspect data\n",
    "print(\"Raw data shape:\", rawdata.shape)\n",
    "\n",
    "# split labels and pixel values\n",
    "y = rawdata[:, 0]\n",
    "X = rawdata[:, 1:]\n",
    "print(\"Labels shape:\", y.shape)\n",
    "print(\"Pixels shape:\", X.shape)\n",
    "\n",
    "# convert pixel values to 2d arrays\n",
    "X = np.reshape(X, (42000, 28, 28))\n",
    "print(\"Pixels reshaped shape:\", X.shape)"
   ]
  },
  {
   "cell_type": "code",
   "execution_count": 21,
   "metadata": {},
   "outputs": [
    {
     "data": {
      "image/png": "[encoded data removed]",
      "text/plain": [
       "<Figure size 720x288 with 40 Axes>"
      ]
     },
     "metadata": {
      "needs_background": "light"
     },
     "output_type": "display_data"
    }
   ],
   "source": [
    "# display random sample of images\n",
    "plt.rcParams['figure.figsize'] = (10.0, 4.0)\n",
    "plt.rcParams['image.interpolation'] = 'nearest'\n",
    "plt.rcParams['image.cmap'] = 'gray'\n",
    "\n",
    "num_classes = 10\n",
    "samples_per_class = 4\n",
    "for cls in range(num_classes):\n",
    "    idxs = np.flatnonzero(y == cls)\n",
    "    idxs = np.random.choice(idxs, samples_per_class, replace=False)\n",
    "    for i, idx in enumerate(idxs):\n",
    "        plt_idx = i * num_classes + cls + 1\n",
    "        plt.subplot(samples_per_class, num_classes, plt_idx)\n",
    "        plt.imshow(X[idx])\n",
    "        plt.axis('off')\n",
    "        if i == 0:\n",
    "            plt.title(cls)\n",
    "plt.show()"
   ]
  },
  {
   "cell_type": "code",
   "execution_count": 5,
   "metadata": {},
   "outputs": [
    {
     "name": "stdout",
     "output_type": "stream",
     "text": [
      "(37800, 28, 28, 1) (4200, 28, 28, 1)\n",
      "(37800, 10) (4200, 10)\n",
      "[420 420 420 420 420 420 420 420 420 420]\n"
     ]
    }
   ],
   "source": [
    "# prep the data for training\n",
    "\n",
    "# one hot encode labels\n",
    "y_oh = to_categorical(y, num_classes)\n",
    "\n",
    "# convert pixel values to be between -1 and 1\n",
    "X_scaled = X / 127.5 - 1\n",
    "X_scaled = np.expand_dims(X_scaled, -1) # channels last\n",
    "\n",
    "# split data into train and validation sets\n",
    "num_val = int(y.shape[0] * 0.1)\n",
    "validation_mask = np.zeros(y.shape[0], np.bool)\n",
    "np.random.seed(1)\n",
    "for c in range(num_classes):\n",
    "    idxs = np.random.choice(np.flatnonzero(y == c), num_val // 10, replace=False)\n",
    "    validation_mask[idxs] = 1\n",
    "np.random.seed(None)  \n",
    "    \n",
    "X_train = X_scaled[~validation_mask]\n",
    "X_val = X_scaled[validation_mask]\n",
    "print(X_train.shape, X_val.shape)\n",
    "\n",
    "y_train = y_oh[~validation_mask]\n",
    "y_val = y_oh[validation_mask]\n",
    "print(y_train.shape, y_val.shape)\n",
    "\n",
    "# confirm validation set is balanced across classes\n",
    "print(np.bincount(y[validation_mask]))"
   ]
  },
  {
   "cell_type": "markdown",
   "metadata": {},
   "source": [
    "## Inception\n",
    "\n",
    "Papers:\n",
    "https://arxiv.org/abs/1409.4842\n",
    "https://arxiv.org/abs/1512.00567\n",
    "https://arxiv.org/abs/1602.07261\n",
    "\n",
    "Basic Inception Module:\n",
    "- Batch Normalized Convolutions\n",
    "- 1 x 1 Convolutions for Dimensionality Reduction\n",
    "- Internal Branches with Different Spatial Coverages\n",
    "- Pooling Branch\n",
    "\n",
    "Basic Model Format: \n",
    "\n",
    "`Stem` &rarr; `Inception Module Stack(including reductions)` &rarr; `Global Average Pooling` &rarr; `Softmax`\n",
    "\n",
    "Reasons for Low Parameter Count:\n",
    "- The 1 x 1 Convolutions in Modules do Dimensionality Reduction\n",
    "- Factorizing Convolutions in Modules\n",
    "- Global Average Pooling\n",
    "- No Hidden Layers\n",
    "\n"
   ]
  },
  {
   "cell_type": "markdown",
   "metadata": {},
   "source": [
    "### Inception Modules"
   ]
  },
  {
   "cell_type": "code",
   "execution_count": 6,
   "metadata": {},
   "outputs": [],
   "source": [
    "def conv2D_bn_relu(x, filters, kernel_size, strides, padding='valid', kernel_initializer='glorot_uniform', name=None):\n",
    "    x = layers.Conv2D(filters=filters, \n",
    "                      kernel_size=kernel_size, \n",
    "                      strides=strides, \n",
    "                      padding=padding, \n",
    "                      kernel_initializer=kernel_initializer,\n",
    "                      name=name,\n",
    "                      use_bias=False)(x)\n",
    "    x = layers.BatchNormalization(scale=False)(x)\n",
    "    return layers.Activation('relu')(x)\n",
    "\n",
    "\n",
    "def inception_module_A(x, filters=None, kernel_initializer='glorot_uniform'):\n",
    "    if filters is None:\n",
    "        filters = int(x.shape[-1])\n",
    "    branch_filters = filters // 4\n",
    "        \n",
    "    b1 = conv2D_bn_relu(x, \n",
    "                        filters=(branch_filters // 3) * 2, \n",
    "                        kernel_size=1, \n",
    "                        strides=1, \n",
    "                        kernel_initializer=kernel_initializer)\n",
    "    b1 = conv2D_bn_relu(b1, \n",
    "                        filters=branch_filters, \n",
    "                        kernel_size=3, \n",
    "                        strides=1, \n",
    "                        padding='same', \n",
    "                        kernel_initializer=kernel_initializer)\n",
    "    \n",
    "    b2 = conv2D_bn_relu(x, \n",
    "                        filters=(branch_filters // 3) * 2, \n",
    "                        kernel_size=1, \n",
    "                        strides=1, \n",
    "                        kernel_initializer=kernel_initializer)\n",
    "    b2 = conv2D_bn_relu(b2, \n",
    "                        filters=branch_filters, \n",
    "                        kernel_size=3, \n",
    "                        strides=1, \n",
    "                        padding='same', \n",
    "                        kernel_initializer=kernel_initializer)\n",
    "    b2 = conv2D_bn_relu(b2, \n",
    "                        filters=branch_filters, \n",
    "                        kernel_size=3, \n",
    "                        strides=1, \n",
    "                        padding='same', \n",
    "                        kernel_initializer=kernel_initializer)\n",
    "        \n",
    "    b3 = conv2D_bn_relu(x, \n",
    "                        filters=branch_filters, \n",
    "                        kernel_size=1, \n",
    "                        strides=1, \n",
    "                        kernel_initializer=kernel_initializer)\n",
    "    \n",
    "    pool = layers.AveragePooling2D(pool_size=(3, 3), strides=1, padding='same')(x)\n",
    "    pool = conv2D_bn_relu(pool, \n",
    "                          filters=branch_filters, \n",
    "                          kernel_size=1, \n",
    "                          strides=1, \n",
    "                          kernel_initializer=kernel_initializer)\n",
    "\n",
    "    return layers.concatenate([b1, b2, b3, pool])\n",
    "\n",
    "\n",
    "def inception_module_B(x, filters=None, kernel_initializer='glorot_uniform'):\n",
    "    if filters is None:\n",
    "        filters = int(x.shape[-1])\n",
    "    branch_filters = filters // 6\n",
    "        \n",
    "    b1 = conv2D_bn_relu(x, \n",
    "                        filters=(branch_filters // 2) * 3, \n",
    "                        kernel_size=1, \n",
    "                        strides=1, \n",
    "                        kernel_initializer=kernel_initializer)\n",
    "        \n",
    "    b1a = conv2D_bn_relu(b1, \n",
    "                         filters=branch_filters, \n",
    "                         kernel_size=(1, 3), \n",
    "                         strides=1, \n",
    "                         padding='same', \n",
    "                         kernel_initializer=kernel_initializer)\n",
    "    \n",
    "    b1b = conv2D_bn_relu(b1, \n",
    "                         filters=branch_filters, \n",
    "                         kernel_size=(3, 1), \n",
    "                         strides=1, \n",
    "                         padding='same', \n",
    "                         kernel_initializer=kernel_initializer)\n",
    "    \n",
    "    b2 = conv2D_bn_relu(x, \n",
    "                        filters=(branch_filters // 2) * 3, \n",
    "                        kernel_size=1, \n",
    "                        strides=1, \n",
    "                        kernel_initializer=kernel_initializer)\n",
    "    b2 = conv2D_bn_relu(b2, \n",
    "                        filters=(branch_filters // 4) * 7, \n",
    "                        kernel_size=(1, 3), \n",
    "                        strides=1, \n",
    "                        padding='same', \n",
    "                        kernel_initializer=kernel_initializer)\n",
    "    b2 = conv2D_bn_relu(b2, \n",
    "                        filters=branch_filters * 2, \n",
    "                        kernel_size=(3, 1), \n",
    "                        strides=1, \n",
    "                        padding='same', \n",
    "                        kernel_initializer=kernel_initializer)\n",
    "\n",
    "    b2a = conv2D_bn_relu(b2, \n",
    "                         filters=branch_filters, \n",
    "                         kernel_size=(1, 3), \n",
    "                         strides=1, \n",
    "                         padding='same', \n",
    "                         kernel_initializer=kernel_initializer)\n",
    "    \n",
    "    b2b = conv2D_bn_relu(b2, \n",
    "                         branch_filters, \n",
    "                         kernel_size=(3, 1), \n",
    "                         strides=1, \n",
    "                         padding='same', \n",
    "                         kernel_initializer=kernel_initializer)\n",
    "        \n",
    "    b3 = conv2D_bn_relu(x, \n",
    "                        filters=branch_filters, \n",
    "                        kernel_size=1, \n",
    "                        strides=1, \n",
    "                        kernel_initializer=kernel_initializer)\n",
    "    \n",
    "    pool = layers.AveragePooling2D(pool_size=(3, 3), strides=1, padding='same')(x)\n",
    "    pool = conv2D_bn_relu(pool, \n",
    "                          filters=branch_filters, \n",
    "                          kernel_size=1, \n",
    "                          strides=1, \n",
    "                          kernel_initializer=kernel_initializer)\n",
    "    \n",
    "    return layers.concatenate([b1a, b1b, b2a, b2b, b3, pool])"
   ]
  },
  {
   "cell_type": "markdown",
   "metadata": {},
   "source": [
    "### Inception Model"
   ]
  },
  {
   "cell_type": "code",
   "execution_count": null,
   "metadata": {
    "scrolled": true
   },
   "outputs": [],
   "source": [
    "K.clear_session()\n",
    "\n",
    "stem_width = 64\n",
    "\n",
    "inputs = layers.Input(shape=X_scaled.shape[1:])\n",
    "x = conv2D_bn_relu(inputs,\n",
    "                   filters=stem_width,\n",
    "                   kernel_size=5,\n",
    "                   strides=2,\n",
    "                   padding='valid',\n",
    "                   name='conv_1')\n",
    "\n",
    "x = inception_module_A(x, filters=int(1.5*stem_width))\n",
    "x = inception_module_A(x, filters=int(1.5*stem_width))\n",
    "x = layers.MaxPooling2D(pool_size=(3, 3), strides=2, padding='same')(x)\n",
    "x = layers.SpatialDropout2D(0.3)(x)\n",
    "\n",
    "x = inception_module_B(x, filters=int(2.25*stem_width))\n",
    "x = layers.GlobalAveragePooling2D()(x)\n",
    "x = layers.Dropout(0.5)(x)\n",
    "\n",
    "x = layers.Dense(num_classes, name='logits')(x)\n",
    "x = layers.Activation('softmax', name='softmax')(x)\n",
    "\n",
    "model = Model(inputs=inputs, outputs=x)\n",
    "model.summary()"
   ]
  },
  {
   "cell_type": "markdown",
   "metadata": {},
   "source": [
    "## Training"
   ]
  },
  {
   "cell_type": "markdown",
   "metadata": {},
   "source": [
    "### Dropout\n",
    "\n",
    "- Dropout: http://www.jmlr.org/papers/volume15/srivastava14a/srivastava14a.pdf\n",
    "- Spatial Dropout: https://arxiv.org/abs/1411.4280"
   ]
  },
  {
   "cell_type": "markdown",
   "metadata": {},
   "source": [
    "### Label Probabilities\n",
    "https://arxiv.org/abs/1512.00567"
   ]
  },
  {
   "cell_type": "code",
   "execution_count": 8,
   "metadata": {},
   "outputs": [
    {
     "name": "stdout",
     "output_type": "stream",
     "text": [
      "[[1.000e-04 9.991e-01 1.000e-04 ... 1.000e-04 1.000e-04 1.000e-04]\n",
      " [9.991e-01 1.000e-04 1.000e-04 ... 1.000e-04 1.000e-04 1.000e-04]\n",
      " [1.000e-04 9.991e-01 1.000e-04 ... 1.000e-04 1.000e-04 1.000e-04]\n",
      " ...\n",
      " [1.000e-04 1.000e-04 1.000e-04 ... 9.991e-01 1.000e-04 1.000e-04]\n",
      " [1.000e-04 1.000e-04 1.000e-04 ... 1.000e-04 1.000e-04 1.000e-04]\n",
      " [1.000e-04 1.000e-04 1.000e-04 ... 1.000e-04 1.000e-04 9.991e-01]]\n"
     ]
    }
   ],
   "source": [
    "# label smoothing\n",
    "epsilon = 0.001\n",
    "y_train_smooth = y_train * (1 - epsilon) + epsilon / 10\n",
    "print(y_train_smooth)"
   ]
  },
  {
   "cell_type": "markdown",
   "metadata": {},
   "source": [
    "### Data Augmentation\n",
    "\n",
    "- Elastic Distortion https://www.microsoft.com/en-us/research/wp-content/uploads/2003/08/icdar03.pdf\n",
    "- Pixel Shifts (Avoiding Blur)\n",
    "\n",
    "Patrice Y. Simard, Dave. Steinkraus, and John C. Platt. \"[Best practices for convolutional neural networks applied to visual document analysis](https://www.microsoft.com/en-us/research/wp-content/uploads/2003/08/icdar03.pdf)\" Seventh International Conference on Document Analysis and Recognition, pp. 958–963, 2003."
   ]
  },
  {
   "cell_type": "code",
   "execution_count": 9,
   "metadata": {},
   "outputs": [],
   "source": [
    "from scipy.ndimage.interpolation import map_coordinates\n",
    "from scipy.ndimage.filters import gaussian_filter\n",
    "\n",
    "def elastic_transform(image, alpha_range, sigma, random_state=None):\n",
    "    \"\"\"Elastic deformation of images as described in [Simard2003]_.\n",
    "    .. [Simard2003] Simard, Steinkraus and Platt, \"Best Practices for\n",
    "       Convolutional Neural Networks applied to Visual Document Analysis\", in\n",
    "       Proc. of the International Conference on Document Analysis and\n",
    "       Recognition, 2003.\n",
    "    \"\"\"\n",
    "    if random_state is None:\n",
    "        random_state = np.random.RandomState(None)\n",
    "        \n",
    "    alpha = np.random.uniform(low=alpha_range[0], high=alpha_range[1])\n",
    "\n",
    "    shape = image.shape\n",
    "    dx = gaussian_filter((random_state.rand(*shape) * 2 - 1), sigma) * alpha\n",
    "    dy = gaussian_filter((random_state.rand(*shape) * 2 - 1), sigma) * alpha\n",
    "\n",
    "    x, y, z = np.meshgrid(np.arange(shape[0]), np.arange(shape[1]), np.arange(shape[2]), indexing='ij')\n",
    "    indices = np.reshape(x+dx, (-1, 1)), np.reshape(y+dy, (-1, 1)), np.reshape(z, (-1, 1))\n",
    "\n",
    "    return map_coordinates(image, indices, order=1, mode='reflect').reshape(shape)"
   ]
  },
  {
   "cell_type": "markdown",
   "metadata": {},
   "source": [
    "### Cosine Annealing\n",
    "\n",
    "https://arxiv.org/abs/1608.03983"
   ]
  },
  {
   "cell_type": "code",
   "execution_count": 10,
   "metadata": {},
   "outputs": [],
   "source": [
    "class CosineAnneal(keras.callbacks.Callback):\n",
    "    def __init__(self, max_lr, min_lr, T, T_mul=1):\n",
    "        self.max_lr = max_lr\n",
    "        self.min_lr = min_lr\n",
    "        self.T = T\n",
    "        self.T_cur = 0\n",
    "        self.T_mul = T_mul\n",
    "        self.step = 0\n",
    "        \n",
    "    def on_batch_begin(self, batch, logs=None):\n",
    "        if self.T <= self.T_cur:\n",
    "            self.T *= self.T_mul\n",
    "            self.T_cur = 0\n",
    "            self.step = 0\n",
    "        lr = self.min_lr + 0.5 * (self.max_lr - self.min_lr) * (1 + np.cos(self.T_cur * np.pi / self.T))        \n",
    "        K.set_value(self.model.optimizer.lr, lr)\n",
    "        # use self.step to avoid floating point arithmetic errors at warm restarts\n",
    "        self.step += 1\n",
    "        self.T_cur = self.step / self.params['steps']\n",
    "            \n",
    "    def on_epoch_end(self, epoch, logs=None):\n",
    "        logs = logs or {}\n",
    "        logs['lr'] = K.get_value(self.model.optimizer.lr)"
   ]
  },
  {
   "cell_type": "markdown",
   "metadata": {},
   "source": [
    "### Adamax\n",
    "\n",
    "https://arxiv.org/abs/1412.6980 "
   ]
  },
  {
   "cell_type": "code",
   "execution_count": 11,
   "metadata": {},
   "outputs": [],
   "source": [
    "model.compile(loss='categorical_crossentropy', \n",
    "              optimizer=optimizers.Adamax(lr=0.01, beta_1=0.49, beta_2=0.999),\n",
    "              metrics=['accuracy'])"
   ]
  },
  {
   "cell_type": "markdown",
   "metadata": {},
   "source": [
    "### Train"
   ]
  },
  {
   "cell_type": "code",
   "execution_count": null,
   "metadata": {
    "scrolled": false
   },
   "outputs": [],
   "source": [
    "batch_size = 64\n",
    "epochs = 5\n",
    "time_id = time.strftime(\"%Y-%m-%d_%H-%M-%S\")\n",
    "best_model_filename = 'mnist-inception-best-' + time_id + '.hdf5'\n",
    "\n",
    "# save weights for visualization\n",
    "pre_train_weights = model.get_layer('conv_1').get_weights()[0]\n",
    "pre_train_weights = pre_train_weights.transpose(3, 2, 0, 1)\n",
    "\n",
    "# setup callbacks\n",
    "annealer = CosineAnneal(max_lr=0.01, min_lr=0.0, T=10, T_mul=1)\n",
    "chkpt = keras.callbacks.ModelCheckpoint('models/' + best_model_filename, monitor='val_acc', \n",
    "                                        save_best_only=True, verbose=False)\n",
    "\n",
    "# define data augmentations\n",
    "datagen = ImageDataGenerator(\n",
    "    width_shift_range=2,\n",
    "    height_shift_range=2,\n",
    "    preprocessing_function=lambda x: elastic_transform(x, alpha_range=[8, 10], sigma=3)\n",
    ")\n",
    "\n",
    "# train model\n",
    "history = model.fit_generator(\n",
    "    datagen.flow(X_train, y_train_smooth, batch_size=batch_size, shuffle=True),\n",
    "    epochs=epochs,\n",
    "    steps_per_epoch=591,\n",
    "    validation_data=(X_val, y_val),\n",
    "    callbacks=[annealer, chkpt]\n",
    ")"
   ]
  },
  {
   "cell_type": "markdown",
   "metadata": {},
   "source": [
    "## Model Evaluation"
   ]
  },
  {
   "cell_type": "code",
   "execution_count": 13,
   "metadata": {},
   "outputs": [],
   "source": [
    "def plot_training_log(log, acc=True, loss=True, lr=True, figsize=(10.0, 2.5)):\n",
    "    \"\"\"Plot training history.\n",
    "    \n",
    "    # Arguments\n",
    "        log: Dictionary of training history, same as ` History.history`  that  \n",
    "            is returned when fitting a Keras model. Should have records for 'acc', \n",
    "            'val_acc', 'loss', 'val_loss', and optionally 'lr'.\n",
    "        acc: if true, plot both 'acc' and 'val_acc' on one plot.\n",
    "        loss: if true, plot both 'loss' and 'val_loss' on one plot.\n",
    "        lr: if true, and if 'lr' is in log, plot both 'lr' and 'val_acc' on one plot.\n",
    "        figsize: size of each plot.\n",
    "    \"\"\"\n",
    "    \n",
    "    plt.rcParams['figure.figsize'] = figsize\n",
    "    max_val_acc_epoch = np.argmax(list(log['val_acc'])) + 1\n",
    "    epochs = range(1, len(log['acc']) + 1)\n",
    "    \n",
    "    def plot(ytype, ylabel, max_val_acc_epoch):\n",
    "        plt.axvline(x=max_val_acc_epoch, color='0.5', linestyle='--')\n",
    "        plt.plot(epochs, log[ytype], label='Train')\n",
    "        plt.plot(epochs, log['val_' + ytype], label='Validation')\n",
    "        plt.minorticks_on()\n",
    "        plt.grid(b=True, axis='x', which='both', color='0.8', linestyle='-')\n",
    "        plt.xlabel('Epoch')\n",
    "        plt.ylabel(ylabel)\n",
    "        plt.xlim(0, epochs[-1] + 1)\n",
    "        plt.legend()\n",
    "        plt.tight_layout()\n",
    "        plt.show()\n",
    "        \n",
    "    if acc:\n",
    "        plot('acc', 'Accuracy', max_val_acc_epoch)\n",
    "        \n",
    "    if loss:\n",
    "        plot('loss', 'Loss', max_val_acc_epoch)\n",
    "    \n",
    "    if lr and 'lr' in log.keys():\n",
    "        fig, ax1 = plt.subplots()\n",
    "        plt.axvline(x=max_val_acc_epoch, color='0.5', linestyle='--')\n",
    "\n",
    "        ln1 = ax1.plot(epochs, log['lr'], 'C4o-', label='Learning Rate')   \n",
    "        ax1.set_xticks(epochs, minor=True)\n",
    "        ax1.grid(b=True, axis='x', which='both', color='0.8', linestyle='-')\n",
    "        ax1.set_xlabel('Epoch')\n",
    "        ax1.set_ylabel('Learning Rate')\n",
    "        ax1.set_xlim(0, epochs[-1] + 1)\n",
    "\n",
    "        ax2 = ax1.twinx()\n",
    "        ln2 = ax2.plot(epochs, log['val_acc'], 'C1o-', \n",
    "                       label='Validation Accuracy [0.98 - 1.0]')\n",
    "        ax2.set_yticks([])\n",
    "        ax2.set_ylim(0.98, 1.0)        \n",
    "\n",
    "        lns = ln1 + ln2\n",
    "        plt.legend(lns, [l.get_label() for l in lns])\n",
    "        plt.tight_layout()\n",
    "        plt.show()\n",
    "        \n",
    "        \n",
    "def evaluate_model(model, X, y, log=None, pre_train_weights=None):\n",
    "    \"\"\"Display accuracy, display misclassified digits, and visualize weights in \n",
    "    first convolution layer for the given model with X and y as prediction inputs.\n",
    "    Optionally, accuracy and loss is plotted with the log argument and additional\n",
    "    weights can be visualized with the pre_train_weights argument.\n",
    "    \n",
    "    # Arguments\n",
    "        model: Keras model with first convolution layer named 'conv_1'.\n",
    "        X: Numpy array of MNIST digits, in channels last format.\n",
    "        y: Labels for X.\n",
    "        log: (optional) Dictionary of training history, same as ` History.history`  that  \n",
    "            is returned when fitting a Keras model. Should have records for 'acc', \n",
    "            'val_acc', 'loss', 'val_loss', and optionally 'lr'.\n",
    "        pre_train_weights: (optional) Numpy array of weights in first convolution layer \n",
    "            of the model.\n",
    "    \"\"\"\n",
    " \n",
    "    if log is not None:\n",
    "        print(\"Max Validation Accuracy:\", max(log['val_acc']))\n",
    "        plot_training_log(log)\n",
    "\n",
    "    scores = model.predict(X)\n",
    "    predictions = np.argmax(scores, axis=1)\n",
    "    y_digits = np.nonzero(y)[1]       \n",
    "    print(\"Accuracy:\",  np.mean(predictions == y_digits))\n",
    "    \n",
    "    post_train_weights = model.get_layer('conv_1').get_weights()[0]\n",
    "    post_train_weights = post_train_weights.transpose(3, 2, 0, 1)\n",
    "    num_weights = len(post_train_weights)\n",
    "    if pre_train_weights is not None:\n",
    "        plt.rcParams['figure.figsize'] = (10.0, 3.0)\n",
    "        for i in range(num_weights):\n",
    "            plt.subplot(4, num_weights // 4, i + 1)\n",
    "            ker = pre_train_weights[i, 0]\n",
    "            low, high = np.amin(ker), np.max(ker)\n",
    "            plt.imshow(255 * (ker - low) / (high - low))\n",
    "            plt.axis('off')\n",
    "        plt.suptitle('Pre-Training Weights from First Convolutional Layer')\n",
    "        plt.show()\n",
    "    plt.rcParams['figure.figsize'] = (10.0, 3.0)\n",
    "    for i in range(num_weights):\n",
    "        plt.subplot(4, num_weights // 4, i + 1)\n",
    "        ker = post_train_weights[i, 0]\n",
    "        low, high = np.amin(ker), np.max(ker)\n",
    "        plt.imshow(255 * (ker - low) / (high - low))\n",
    "        plt.axis('off')\n",
    "    plt.suptitle('Post-Training Weights from First Convolutional Layer')\n",
    "    plt.show()\n",
    "\n",
    "    misclassified_mask = (predictions != y_digits)\n",
    "    samples_per_class = 7\n",
    "    num_classes = 10\n",
    "    plt.rcParams['figure.figsize'] = (10.0, 7.0)    \n",
    "    counts = [];\n",
    "    for cls in range(10):\n",
    "        idxs = np.flatnonzero(y_digits[misclassified_mask] == cls)\n",
    "        counts.append(len(idxs))\n",
    "        if len(idxs) > samples_per_class:\n",
    "            idxs = np.random.choice(idxs, samples_per_class, replace=False)       \n",
    "        for i, idx in enumerate(idxs):\n",
    "            plt_idx = i * num_classes + cls + 1\n",
    "            plt.subplot(samples_per_class, num_classes, plt_idx)\n",
    "            plt.imshow(X[misclassified_mask][idx,:,:,0])\n",
    "            plt.axis('off')\n",
    "            plt.text(14, 27, 'Pred:' + str(predictions[misclassified_mask][idx]), \n",
    "                     horizontalalignment='center', verticalalignment='top')        \n",
    "            if i == 0:\n",
    "                plt.title(cls)            \n",
    "    plt.suptitle('Misclassified Digits | Norm of Counts = ' + str(np.linalg.norm(counts)))\n",
    "    plt.show()"
   ]
  },
  {
   "cell_type": "markdown",
   "metadata": {},
   "source": [
    "What am I looking for in the evaluation?"
   ]
  },
  {
   "cell_type": "code",
   "execution_count": null,
   "metadata": {
    "scrolled": true
   },
   "outputs": [],
   "source": [
    "model = keras.models.load_model('models/' + best_model_filename)\n",
    "evaluate_model(model, X_val, y_val, log=history.history, pre_train_weights=pre_train_weights)"
   ]
  },
  {
   "cell_type": "markdown",
   "metadata": {},
   "source": [
    "## Predict on Test Set"
   ]
  },
  {
   "cell_type": "code",
   "execution_count": 15,
   "metadata": {},
   "outputs": [],
   "source": [
    "# load test set data\n",
    "test_data = np.loadtxt('../input/test.csv', dtype=int, delimiter=',', skiprows=1)"
   ]
  },
  {
   "cell_type": "code",
   "execution_count": 16,
   "metadata": {},
   "outputs": [
    {
     "name": "stdout",
     "output_type": "stream",
     "text": [
      "Raw data shape: (28000, 784)\n",
      "Pixels reshaped shape: (28000, 28, 28, 1)\n"
     ]
    }
   ],
   "source": [
    "# inspect data\n",
    "print(\"Raw data shape:\", test_data.shape)\n",
    "\n",
    "# convert pixel values to 2d arrays\n",
    "test_images = np.reshape(test_data, (28000, 28, 28))\n",
    "test_images = test_images / 127.5 - 1\n",
    "test_images = np.expand_dims(test_images, -1)\n",
    "print(\"Pixels reshaped shape:\", test_images.shape)"
   ]
  },
  {
   "cell_type": "code",
   "execution_count": 20,
   "metadata": {},
   "outputs": [
    {
     "data": {
      "image/png": "[encoded data removed]",
      "text/plain": [
       "<Figure size 720x288 with 40 Axes>"
      ]
     },
     "metadata": {
      "needs_background": "light"
     },
     "output_type": "display_data"
    }
   ],
   "source": [
    "# display some images\n",
    "plt.rcParams['figure.figsize'] = (10.0, 4.0)\n",
    "for i in range(40):\n",
    "    plt.subplot(4, 10, i + 1)\n",
    "    plt.imshow(test_images[i,:,:,0])\n",
    "    plt.axis('off')\n",
    "plt.show()"
   ]
  },
  {
   "cell_type": "code",
   "execution_count": 18,
   "metadata": {},
   "outputs": [],
   "source": [
    "test_scores = model.predict(test_images)\n",
    "test_predictions = np.argmax(test_scores, axis=1)"
   ]
  },
  {
   "cell_type": "code",
   "execution_count": 19,
   "metadata": {},
   "outputs": [
    {
     "name": "stdout",
     "output_type": "stream",
     "text": [
      "(28000, 2)\n"
     ]
    }
   ],
   "source": [
    "header = 'ImageId,Label'\n",
    "submission = np.stack((range(1, 28001), test_predictions), axis=1)\n",
    "print(submission.shape)\n",
    "np.savetxt('submission-' + time_id + '.csv', submission, fmt='%i', delimiter=',', header=header, comments='')"
   ]
  }
 ],
 "metadata": {
  "kernelspec": {
   "display_name": "Python 3",
   "language": "python",
   "name": "python3"
  },
  "language_info": {
   "codemirror_mode": {
    "name": "ipython",
    "version": 3
   },
   "file_extension": ".py",
   "mimetype": "text/x-python",
   "name": "python",
   "nbconvert_exporter": "python",
   "pygments_lexer": "ipython3",
   "version": "3.6.7"
  },
  "widgets": {
   "application/vnd.jupyter.widget-state+json": {
    "state": {},
    "version_major": 2,
    "version_minor": 0
   }
  }
 },
 "nbformat": 4,
 "nbformat_minor": 2
}
